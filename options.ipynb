{
 "cells": [
  {
   "cell_type": "code",
   "execution_count": 5,
   "metadata": {},
   "outputs": [],
   "source": [
    "from pinance import Pinance\n",
    "from pprint import pprint"
   ]
  },
  {
   "cell_type": "code",
   "execution_count": 12,
   "metadata": {},
   "outputs": [],
   "source": [
    "expirations = ['2018-01-24', '2018-01-26', '2018-01-31',\n",
    "               '2018-02-02', '2018-02-09', '2018-02-16']"
   ]
  },
  {
   "cell_type": "code",
   "execution_count": 3,
   "metadata": {},
   "outputs": [],
   "source": [
    "symbol = \"SPY\"\n",
    "stock = Pinance(symbol)\n",
    "stock.get_quotes()"
   ]
  },
  {
   "cell_type": "code",
   "execution_count": 21,
   "metadata": {},
   "outputs": [],
   "source": [
    "last_price = stock.quotes_data['ask']\n",
    "bull_percent_change = 0.05\n",
    "bear_percent_change = 0.05\n",
    "prices = range(int(last_price*(1-bear_percent_change)),\n",
    "               int(last_price*(1+bull_percent_change)))"
   ]
  },
  {
   "cell_type": "code",
   "execution_count": 35,
   "metadata": {},
   "outputs": [],
   "source": [
    "def get_call_or_put(stock_price, strike_price):\n",
    "    if stock_price < strike_price:\n",
    "        return 'C'\n",
    "    else:\n",
    "        return 'P'\n",
    "\n",
    "def get_spread(stock, expiration, c_or_p, price, strike_diff=1):\n",
    "    if c_or_p.upper() == 'C':\n",
    "        stock.get_options(expiration, 'C', price)\n",
    "        ask = stock.options_data['ask']\n",
    "        stock.get_options(expiration, 'C', price + strike_diff)\n",
    "        bid = stock.options_data['bid']\n",
    "        return ask-bid\n",
    "    if c_or_p.upper() == 'P':\n",
    "        stock.get_options(expiration, 'P', price)\n",
    "        bid = stock.options_data['bid']\n",
    "        stock.get_options(expiration, 'P', price - strike_diff)\n",
    "        ask = stock.options_data['ask']\n",
    "        return bid-ask"
   ]
  },
  {
   "cell_type": "code",
   "execution_count": 36,
   "metadata": {},
   "outputs": [
    {
     "name": "stdout",
     "output_type": "stream",
     "text": [
      "0.4\n"
     ]
    }
   ],
   "source": [
    "print(get_spread(stock, '2018-01-24', 'C', 280))"
   ]
  },
  {
   "cell_type": "code",
   "execution_count": 41,
   "metadata": {},
   "outputs": [
    {
     "name": "stdout",
     "output_type": "stream",
     "text": [
      "265 : -0.010000000000000002\n",
      "266 : 0.0\n",
      "267 : -0.009999999999999995\n",
      "268 : -0.009999999999999995\n",
      "269 : 0.0\n",
      "270 : 0.0\n",
      "271 : 0.0\n",
      "272 : 0.010000000000000009\n",
      "273 : 0.009999999999999995\n",
      "274 : 0.03\n",
      "275 : 0.04999999999999999\n",
      "276 : 0.06999999999999998\n",
      "277 : 0.12\n",
      "278 : 0.19\n",
      "279 : 0.2899999999999999\n",
      "280 : 0.41000000000000003\n",
      "281 : 0.26\n",
      "282 : 0.14\n",
      "283 : 0.07\n",
      "284 : 0.03\n",
      "285 : 0.03\n",
      "286 : 0.01\n",
      "287 : 0.01\n",
      "288 : 0.02\n",
      "289 : 0.01\n"
     ]
    }
   ],
   "source": [
    "for price in prices:\n",
    "    if price >= last_price:\n",
    "        c_or_p = 'C'\n",
    "    else:\n",
    "        c_or_p = 'P'\n",
    "        \n",
    "    try:\n",
    "        spread = get_spread(stock, '2018-01-24', c_or_p, price)\n",
    "        print(price, \":\", spread)\n",
    "    except:\n",
    "        break"
   ]
  }
 ],
 "metadata": {
  "kernelspec": {
   "display_name": "Python 3",
   "language": "python",
   "name": "python3"
  },
  "language_info": {
   "codemirror_mode": {
    "name": "ipython",
    "version": 3
   },
   "file_extension": ".py",
   "mimetype": "text/x-python",
   "name": "python",
   "nbconvert_exporter": "python",
   "pygments_lexer": "ipython3",
   "version": "3.5.2"
  }
 },
 "nbformat": 4,
 "nbformat_minor": 2
}
