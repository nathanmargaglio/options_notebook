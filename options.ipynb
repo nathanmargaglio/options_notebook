{
 "cells": [
  {
   "cell_type": "code",
   "execution_count": 5,
   "metadata": {},
   "outputs": [],
   "source": [
    "from pinance import Pinance\n",
    "from pprint import pprint"
   ]
  },
  {
   "cell_type": "code",
   "execution_count": 12,
   "metadata": {},
   "outputs": [],
   "source": [
    "expirations = ['2018-01-24', '2018-01-26', '2018-01-31',\n",
    "               '2018-02-02', '2018-02-09', '2018-02-16']"
   ]
  },
  {
   "cell_type": "code",
   "execution_count": 3,
   "metadata": {},
   "outputs": [],
   "source": [
    "symbol = \"SPY\"\n",
    "stock = Pinance(symbol)"
   ]
  },
  {
   "cell_type": "code",
   "execution_count": 7,
   "metadata": {
    "scrolled": true
   },
   "outputs": [
    {
     "name": "stdout",
     "output_type": "stream",
     "text": [
      "{'ask': 279.56,\n",
      " 'askSize': 2,\n",
      " 'averageDailyVolume10Day': 85173357,\n",
      " 'averageDailyVolume3Month': 76304204,\n",
      " 'bid': 279.55,\n",
      " 'bidSize': 100,\n",
      " 'currency': 'USD',\n",
      " 'esgPopulated': False,\n",
      " 'exchange': 'PCX',\n",
      " 'exchangeDataDelayedBy': 0,\n",
      " 'exchangeTimezoneName': 'America/New_York',\n",
      " 'exchangeTimezoneShortName': 'EST',\n",
      " 'fiftyDayAverage': 269.24152,\n",
      " 'fiftyDayAverageChange': 10.068481,\n",
      " 'fiftyDayAverageChangePercent': 0.037395723,\n",
      " 'fiftyTwoWeekHigh': 280.09,\n",
      " 'fiftyTwoWeekHighChange': -0.7799988,\n",
      " 'fiftyTwoWeekHighChangePercent': -0.002784815,\n",
      " 'fiftyTwoWeekLow': 225.27,\n",
      " 'fiftyTwoWeekLowChange': 54.039993,\n",
      " 'fiftyTwoWeekLowChangePercent': 0.23988988,\n",
      " 'financialCurrency': 'USD',\n",
      " 'fullExchangeName': 'NYSEArca',\n",
      " 'gmtOffSetMilliseconds': -18000000,\n",
      " 'language': 'en-US',\n",
      " 'longName': 'SPDR S&amp;P 500 ETF',\n",
      " 'market': 'us_market',\n",
      " 'marketCap': 273467392000,\n",
      " 'marketState': 'REGULAR',\n",
      " 'messageBoardId': 'finmb_6160262',\n",
      " 'priceHint': 2,\n",
      " 'quoteSourceName': 'Nasdaq Real Time Price',\n",
      " 'quoteType': 'ETF',\n",
      " 'regularMarketChange': 0.16998291,\n",
      " 'regularMarketChangePercent': 0.060895212,\n",
      " 'regularMarketDayHigh': 279.99,\n",
      " 'regularMarketDayLow': 279.1517,\n",
      " 'regularMarketOpen': 279.8,\n",
      " 'regularMarketPreviousClose': 279.14,\n",
      " 'regularMarketPrice': 279.31,\n",
      " 'regularMarketTime': 1516377907,\n",
      " 'regularMarketVolume': 42389950,\n",
      " 'sharesOutstanding': 979081984,\n",
      " 'shortName': 'SPDR S&P 500',\n",
      " 'sourceInterval': 15,\n",
      " 'symbol': 'SPY',\n",
      " 'tradeable': True,\n",
      " 'trailingThreeMonthNavReturns': 6.61,\n",
      " 'trailingThreeMonthReturns': 6.76,\n",
      " 'twoHundredDayAverage': 255.15463,\n",
      " 'twoHundredDayAverageChange': 24.155365,\n",
      " 'twoHundredDayAverageChangePercent': 0.09466951,\n",
      " 'ytdReturn': 21.69}\n"
     ]
    }
   ],
   "source": [
    "stock.get_quotes()\n",
    "pprint(stock.quotes_data)\n",
    "last_price = stock.quotes_data['ask']"
   ]
  },
  {
   "cell_type": "code",
   "execution_count": 21,
   "metadata": {},
   "outputs": [],
   "source": [
    "bull_percent_change = 0.05\n",
    "bear_percent_change = 0.05\n",
    "prices = range(int(last_price*(1-bear_percent_change)),\n",
    "               int(last_price*(1+bull_percent_change)))"
   ]
  },
  {
   "cell_type": "code",
   "execution_count": 22,
   "metadata": {},
   "outputs": [
    {
     "data": {
      "text/plain": [
       "range(265, 293)"
      ]
     },
     "execution_count": 22,
     "metadata": {},
     "output_type": "execute_result"
    }
   ],
   "source": [
    "prices"
   ]
  },
  {
   "cell_type": "code",
   "execution_count": 23,
   "metadata": {},
   "outputs": [
    {
     "name": "stdout",
     "output_type": "stream",
     "text": [
      "{'lastPrice': 0.05, 'inTheMoney': False, 'percentChange': -44.444447, 'lastTradeDate': 1516375410, 'bid': 0.05, 'volume': 10, 'currency': 'USD', 'contractSymbol': 'SPY180124P00265000', 'contractSize': 'REGULAR', 'impliedVolatility': 0.20606262695312497, 'change': -0.040000003, 'expiration': 1516752000, 'ask': 0.06, 'strike': 265.0, 'openInterest': 5330}\n"
     ]
    }
   ],
   "source": [
    "stock.get_options('2018-01-24', 'P', 265)\n",
    "print(stock.options_data)"
   ]
  }
 ],
 "metadata": {
  "kernelspec": {
   "display_name": "Python 3",
   "language": "python",
   "name": "python3"
  },
  "language_info": {
   "codemirror_mode": {
    "name": "ipython",
    "version": 3
   },
   "file_extension": ".py",
   "mimetype": "text/x-python",
   "name": "python",
   "nbconvert_exporter": "python",
   "pygments_lexer": "ipython3",
   "version": "3.5.2"
  }
 },
 "nbformat": 4,
 "nbformat_minor": 2
}
